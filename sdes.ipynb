{
 "cells": [
  {
   "cell_type": "code",
   "execution_count": 79,
   "metadata": {},
   "outputs": [
    {
     "name": "stdout",
     "output_type": "stream",
     "text": [
      "plain:\t 100010110101\n",
      "key:\t 111000111\n",
      "---- Round 1 ----\n",
      "L0:\t 100010\n",
      "R0:\t 110101\n",
      "K1:\t 11100011\n",
      "E0:\t 11101001\n",
      "EK0:\t 00001010\n",
      "---- Round 2 ----\n",
      "L1:\t 110101\n",
      "R1:\t 001010\n",
      "K2:\t 11000111\n",
      "E0:\t 00010110\n",
      "EK1:\t 11010001\n",
      "---- end ----\n",
      "encrypted:\t 001101001010\n"
     ]
    }
   ],
   "source": [
    "# from https://www.cs.uri.edu/cryptography/dessimplified.htm\n",
    "\n",
    "S1BOX=[0b101,0b010,0b001,0b110,0b011,0b100,0b111,0b000,\n",
    "      0b001,0b100,0b110,0b010,0b000,0b111,0b101,0b011]\n",
    "S2BOX=[0b100,0b000,0b110,0b101,0b111,0b001,0b011,0b010,\n",
    "       0b101,0b011,0b000,0b111,0b110,0b010,0b001,0b100]\n",
    "\n",
    "def E(r):\n",
    "    return (r&0b110000)<<2|r&0b11|((r>>3)&1)<<4|((r>>3)&1)<<2|((r>>2)&1)<<3|((r>>2)&1)<<5\n",
    "    \n",
    "\n",
    "# block length is 12\n",
    "plain = 0b100010110101\n",
    "# key length : 9\n",
    "key = 0b111000111\n",
    "print(\"plain:\\t\",format(plain,\"012b\"))\n",
    "print(\"key:\\t\",format(key,\"09b\"))\n",
    "\n",
    "mask = 0b111111\n",
    "# round 1\n",
    "print(\"---- Round 1 ----\")\n",
    "round = 1\n",
    "L0 = (plain >> 6) & mask\n",
    "R0 = (plain) & mask\n",
    "K1 = (key>>1)\n",
    "print(\"L0:\\t\",format(L0,\"06b\"))\n",
    "print(\"R0:\\t\",format(R0,\"06b\"))\n",
    "print(\"K1:\\t\",format(K1,\"08b\"))\n",
    "e0 = E(R0)\n",
    "print(\"E0:\\t\",format(e0,\"08b\"))\n",
    "ek0 = e0 ^ K1\n",
    "print(\"EK0:\\t\",format(ek0,\"08b\"))\n",
    "R1=(S1BOX[ek0>>4]<<3|S2BOX[ek0&0b1111]) ^ L0\n",
    "L1=R0\n",
    "K2 = (key&0b11111111)\n",
    "print(\"---- Round 2 ----\")\n",
    "print(\"L1:\\t\",format(L1,\"06b\"))\n",
    "print(\"R1:\\t\",format(R1,\"06b\"))\n",
    "print(\"K2:\\t\",format(K2,\"08b\"))\n",
    "e1 = E(R1)\n",
    "print(\"E0:\\t\",format(e1,\"08b\"))\n",
    "ek1 = e1 ^ K2\n",
    "print(\"EK1:\\t\",format(ek1,\"08b\"))\n",
    "R2=(S1BOX[ek1>>4]<<3|S2BOX[ek1&0b1111]) ^ L1\n",
    "L2=R1\n",
    "print(\"---- end ----\")\n",
    "print(\"encrypted:\\t\",format((R2<<6)|L2,\"012b\"))\n",
    "\n",
    "\n"
   ]
  },
  {
   "cell_type": "code",
   "execution_count": 83,
   "metadata": {},
   "outputs": [
    {
     "name": "stdout",
     "output_type": "stream",
     "text": [
      "plain:\t 001101001010\n",
      "key:\t 111000111\n",
      "---- Round 1 ----\n",
      "L0:\t 001101\n",
      "R0:\t 001010\n",
      "K2:\t 11000111\n",
      "E0:\t 00010110\n",
      "EK0:\t 11010001\n",
      "---- Round 2 ----\n",
      "L1:\t 001010\n",
      "R1:\t 110101\n",
      "K1:\t 11100011\n",
      "E0:\t 11101001\n",
      "EK1:\t 00001010\n",
      "---- end ----\n",
      "decrypted:\t 100010110101\n"
     ]
    }
   ],
   "source": [
    "# from https://www.cs.uri.edu/cryptography/dessimplified.htm\n",
    "\n",
    "S1BOX=[0b101,0b010,0b001,0b110,0b011,0b100,0b111,0b000,\n",
    "      0b001,0b100,0b110,0b010,0b000,0b111,0b101,0b011]\n",
    "S2BOX=[0b100,0b000,0b110,0b101,0b111,0b001,0b011,0b010,\n",
    "       0b101,0b011,0b000,0b111,0b110,0b010,0b001,0b100]\n",
    "\n",
    "def E(r):\n",
    "    return (r&0b110000)<<2|r&0b11|((r>>3)&1)<<4|((r>>3)&1)<<2|((r>>2)&1)<<3|((r>>2)&1)<<5\n",
    "    \n",
    "\n",
    "# block length is 12\n",
    "plain = 0b001101001010\n",
    "# key length : 9\n",
    "key = 0b111000111\n",
    "print(\"plain:\\t\",format(plain,\"012b\"))\n",
    "print(\"key:\\t\",format(key,\"09b\"))\n",
    "\n",
    "mask = 0b111111\n",
    "# round 1\n",
    "print(\"---- Round 1 ----\")\n",
    "round = 1\n",
    "L0 = (plain >> 6) & mask\n",
    "R0 = (plain) & mask\n",
    "K2 = (key&0b11111111)\n",
    "print(\"L0:\\t\",format(L0,\"06b\"))\n",
    "print(\"R0:\\t\",format(R0,\"06b\"))\n",
    "print(\"K2:\\t\",format(K2,\"08b\"))\n",
    "e0 = E(R0)\n",
    "print(\"E0:\\t\",format(e0,\"08b\"))\n",
    "ek0 = e0 ^ K2\n",
    "print(\"EK0:\\t\",format(ek0,\"08b\"))\n",
    "R1=(S1BOX[ek0>>4]<<3|S2BOX[ek0&0b1111]) ^ L0\n",
    "L1=R0\n",
    "K1 = (key>>1)\n",
    "print(\"---- Round 2 ----\")\n",
    "print(\"L1:\\t\",format(L1,\"06b\"))\n",
    "print(\"R1:\\t\",format(R1,\"06b\"))\n",
    "print(\"K1:\\t\",format(K1,\"08b\"))\n",
    "e1 = E(R1)\n",
    "print(\"E0:\\t\",format(e1,\"08b\"))\n",
    "ek1 = e1 ^ K1\n",
    "print(\"EK1:\\t\",format(ek1,\"08b\"))\n",
    "R2=(S1BOX[ek1>>4]<<3|S2BOX[ek1&0b1111]) ^ L1\n",
    "L2=R1\n",
    "print(\"---- end ----\")\n",
    "print(\"decrypted:\\t\",format((R2<<6)|L2,\"012b\"))\n",
    "\n",
    "\n"
   ]
  },
  {
   "cell_type": "code",
   "execution_count": 98,
   "metadata": {},
   "outputs": [
    {
     "name": "stdout",
     "output_type": "stream",
     "text": [
      "plain text:\t 100010110101\n",
      "key:\t\t 111000111\n",
      "encrypted:\t 001101001010\n",
      "decrypted:\t 100010110101\n"
     ]
    }
   ],
   "source": [
    "# from https://www.cs.uri.edu/cryptography/dessimplified.htm\n",
    "\n",
    "S1BOX=[0b101,0b010,0b001,0b110,0b011,0b100,0b111,0b000,\n",
    "      0b001,0b100,0b110,0b010,0b000,0b111,0b101,0b011]\n",
    "S2BOX=[0b100,0b000,0b110,0b101,0b111,0b001,0b011,0b010,\n",
    "       0b101,0b011,0b000,0b111,0b110,0b010,0b001,0b100]\n",
    "\n",
    "\n",
    "def E(r): #expand 123456 -> 12434356\n",
    "    return (r&0b110000)<<2|r&0b11|((r>>3)&1)<<4|((r>>3)&1)<<2|((r>>2)&1)<<3|((r>>2)&1)<<5\n",
    "\n",
    "def div_plain(plain):\n",
    "    mask = 0b111111\n",
    "    return (plain>>6)&mask,(plain)&mask\n",
    "\n",
    "def genkey(key,round):\n",
    "    if(round==1):\n",
    "        return key>>1\n",
    "    else:\n",
    "        return key&0b11111111\n",
    "\n",
    "def f(L,R,K):\n",
    "    e0 = E(R)\n",
    "    ek0 = e0 ^ K\n",
    "    return (S1BOX[ek0>>4]<<3|S2BOX[ek0&0b1111]) ^ L    \n",
    "    \n",
    "def sdes_encrypt(plain,key):\n",
    "    L,R = div_plain(plain)\n",
    "    for round in range(2):\n",
    "        K = genkey(key,round+1)\n",
    "        tR = R\n",
    "        R=f(L,R,K)\n",
    "        L=tR\n",
    "    return R<<6 | L\n",
    "    \n",
    "def sdes_decrypt(plain,key):\n",
    "    L,R = div_plain(plain)\n",
    "    for round in range(2):\n",
    "        K = genkey(key,2-(round))\n",
    "        tR = R\n",
    "        R=f(L,R,K)\n",
    "        L=tR\n",
    "    return R<<6 | L\n",
    "    \n",
    "    \n",
    "plain = 0b100010110101\n",
    "key = 0b111000111\n",
    "print(\"plain text:\\t\",format(plain,\"012b\"))\n",
    "print(\"key:\\t\\t\",format(key,\"09b\"))\n",
    "enc = sdes_encrypt(plain,key)\n",
    "print(\"encrypted:\\t\",format(enc,\"012b\"))\n",
    "dec = sdes_decrypt(enc,key)\n",
    "print(\"decrypted:\\t\",format(dec,\"012b\"))\n"
   ]
  },
  {
   "cell_type": "code",
   "execution_count": 4,
   "metadata": {},
   "outputs": [
    {
     "name": "stdout",
     "output_type": "stream",
     "text": [
      "plain text:\t 000000000000\n",
      "key:\t\t 111000111\n",
      "encrypted:\t 000000101101\n",
      "decrypted:\t 000000000000\n",
      "plain text:\t 000000000001\n",
      "key:\t\t 111000111\n",
      "encrypted:\t 000010101110\n",
      "decrypted:\t 000000000001\n",
      "plain text:\t 000000000010\n",
      "key:\t\t 111000111\n",
      "encrypted:\t 100111101000\n",
      "decrypted:\t 000000000010\n",
      "plain text:\t 000000000100\n",
      "key:\t\t 111000111\n",
      "encrypted:\t 101010000111\n",
      "decrypted:\t 000000000100\n"
     ]
    }
   ],
   "source": [
    "# from https://www.cs.uri.edu/cryptography/dessimplified.htm\n",
    "\n",
    "S1BOX=[0b101,0b010,0b001,0b110,0b011,0b100,0b111,0b000,\n",
    "      0b001,0b100,0b110,0b010,0b000,0b111,0b101,0b011]\n",
    "S2BOX=[0b100,0b000,0b110,0b101,0b111,0b001,0b011,0b010,\n",
    "       0b101,0b011,0b000,0b111,0b110,0b010,0b001,0b100]\n",
    "\n",
    "\n",
    "def E(r): #expand 123456 -> 12434356\n",
    "    return (r&0b110000)<<2|r&0b11|((r>>3)&1)<<4|((r>>3)&1)<<2|((r>>2)&1)<<3|((r>>2)&1)<<5\n",
    "\n",
    "def div_plain(plain):\n",
    "    mask = 0b111111\n",
    "    return (plain>>6)&mask,(plain)&mask\n",
    "\n",
    "def genkey(key,round):\n",
    "    if(round==1):\n",
    "        return key>>1\n",
    "    else:\n",
    "        return key&0b11111111\n",
    "\n",
    "def f(L,R,K):\n",
    "    e0 = E(R)\n",
    "    ek0 = e0 ^ K\n",
    "    return (S1BOX[ek0>>4]<<3|S2BOX[ek0&0b1111]) ^ L    \n",
    "    \n",
    "def sdes_encrypt(plain,key):\n",
    "    L,R = div_plain(plain)\n",
    "    for round in range(2):\n",
    "        K = genkey(key,round+1)\n",
    "        tR = R\n",
    "        R=f(L,R,K)\n",
    "        L=tR\n",
    "    return R<<6 | L\n",
    "    \n",
    "def sdes_decrypt(plain,key):\n",
    "    L,R = div_plain(plain)\n",
    "    for round in range(2):\n",
    "        K = genkey(key,2-(round))\n",
    "        tR = R\n",
    "        R=f(L,R,K)\n",
    "        L=tR\n",
    "    return R<<6 | L\n",
    "    \n",
    "    \n",
    "plain = 0b000000000000\n",
    "key = 0b111000111\n",
    "print(\"plain text:\\t\",format(plain,\"012b\"))\n",
    "print(\"key:\\t\\t\",format(key,\"09b\"))\n",
    "enc = sdes_encrypt(plain,key)\n",
    "print(\"encrypted:\\t\",format(enc,\"012b\"))\n",
    "dec = sdes_decrypt(enc,key)\n",
    "print(\"decrypted:\\t\",format(dec,\"012b\"))\n",
    "\n",
    "plain = 0b000000000001\n",
    "key = 0b111000111\n",
    "print(\"plain text:\\t\",format(plain,\"012b\"))\n",
    "print(\"key:\\t\\t\",format(key,\"09b\"))\n",
    "enc = sdes_encrypt(plain,key)\n",
    "print(\"encrypted:\\t\",format(enc,\"012b\"))\n",
    "dec = sdes_decrypt(enc,key)\n",
    "print(\"decrypted:\\t\",format(dec,\"012b\"))\n",
    "\n",
    "plain = 0b000000000010\n",
    "key = 0b111000111\n",
    "print(\"plain text:\\t\",format(plain,\"012b\"))\n",
    "print(\"key:\\t\\t\",format(key,\"09b\"))\n",
    "enc = sdes_encrypt(plain,key)\n",
    "print(\"encrypted:\\t\",format(enc,\"012b\"))\n",
    "dec = sdes_decrypt(enc,key)\n",
    "print(\"decrypted:\\t\",format(dec,\"012b\"))\n",
    "\n",
    "plain = 0b000000000100\n",
    "key = 0b111000111\n",
    "print(\"plain text:\\t\",format(plain,\"012b\"))\n",
    "print(\"key:\\t\\t\",format(key,\"09b\"))\n",
    "enc = sdes_encrypt(plain,key)\n",
    "print(\"encrypted:\\t\",format(enc,\"012b\"))\n",
    "dec = sdes_decrypt(enc,key)\n",
    "print(\"decrypted:\\t\",format(dec,\"012b\"))"
   ]
  },
  {
   "cell_type": "code",
   "execution_count": 52,
   "metadata": {},
   "outputs": [
    {
     "name": "stdout",
     "output_type": "stream",
     "text": [
      "4\n",
      "0\n",
      "0\n",
      "b'abcd'\n",
      "1\n",
      "b'abcd'\n",
      "2\n",
      "b'abcd'\n",
      "3\n",
      "b'abcd'\n",
      "1\n",
      "0\n",
      "b'efgh'\n",
      "1\n",
      "b'efgh'\n",
      "2\n",
      "b'efgh'\n",
      "3\n",
      "b'efgh'\n",
      "2\n",
      "0\n",
      "b'ijkl'\n",
      "1\n",
      "b'ijkl'\n",
      "2\n",
      "b'ijkl'\n",
      "3\n",
      "b'ijkl'\n",
      "3\n",
      "0\n",
      "b'mnop'\n",
      "1\n",
      "b'mnop'\n",
      "2\n",
      "b'mnop'\n",
      "3\n",
      "b'mnop'\n",
      "PSRUTWVYX[Z]\\_^A\n",
      "4\n",
      "0\n",
      "0\n",
      "b'PSRU'\n",
      "1\n",
      "b'PSRU'\n",
      "2\n",
      "b'PSRU'\n",
      "3\n",
      "b'PSRU'\n",
      "1\n",
      "0\n",
      "b'TWVY'\n",
      "1\n",
      "b'TWVY'\n",
      "2\n",
      "b'TWVY'\n",
      "3\n",
      "b'TWVY'\n",
      "2\n",
      "0\n",
      "b'X[Z]'\n",
      "1\n",
      "b'X[Z]'\n",
      "2\n",
      "b'X[Z]'\n",
      "3\n",
      "b'X[Z]'\n",
      "3\n",
      "0\n",
      "b'\\\\_^A'\n",
      "1\n",
      "b'\\\\_^A'\n",
      "2\n",
      "b'\\\\_^A'\n",
      "3\n",
      "b'\\\\_^A'\n",
      "abcdefghijklmnop\n",
      "4\n",
      "0\n",
      "0\n",
      "b'0000'\n",
      "1\n",
      "b'0000'\n",
      "2\n",
      "b'0000'\n",
      "3\n",
      "b'0000'\n",
      "1\n",
      "0\n",
      "b'0000'\n",
      "1\n",
      "b'0000'\n",
      "2\n",
      "b'0000'\n",
      "3\n",
      "b'0000'\n",
      "2\n",
      "0\n",
      "b'0000'\n",
      "1\n",
      "b'0000'\n",
      "2\n",
      "b'0000'\n",
      "3\n",
      "b'0000'\n",
      "3\n",
      "0\n",
      "b'0000'\n",
      "1\n",
      "b'0000'\n",
      "2\n",
      "b'0000'\n",
      "3\n",
      "b'0000'\n",
      "\u0001\u0001\u0001\u0001\u0001\u0001\u0001\u0001\u0001\u0001\u0001\u0001\u0001\u0001\u0001\u0001\n",
      "b'\\x01\\x01\\x01\\x01\\x01\\x01\\x01\\x01\\x01\\x01\\x01\\x01\\x01\\x01\\x01\\x01'\n",
      "4\n",
      "0\n",
      "0\n",
      "b'\\x01\\x01\\x01\\x01'\n",
      "1\n",
      "b'\\x01\\x01\\x01\\x01'\n",
      "2\n",
      "b'\\x01\\x01\\x01\\x01'\n",
      "3\n",
      "b'\\x01\\x01\\x01\\x01'\n",
      "1\n",
      "0\n",
      "b'\\x01\\x01\\x01\\x01'\n",
      "1\n",
      "b'\\x01\\x01\\x01\\x01'\n",
      "2\n",
      "b'\\x01\\x01\\x01\\x01'\n",
      "3\n",
      "b'\\x01\\x01\\x01\\x01'\n",
      "2\n",
      "0\n",
      "b'\\x01\\x01\\x01\\x01'\n",
      "1\n",
      "b'\\x01\\x01\\x01\\x01'\n",
      "2\n",
      "b'\\x01\\x01\\x01\\x01'\n",
      "3\n",
      "b'\\x01\\x01\\x01\\x01'\n",
      "3\n",
      "0\n",
      "b'\\x01\\x01\\x01\\x01'\n",
      "1\n",
      "b'\\x01\\x01\\x01\\x01'\n",
      "2\n",
      "b'\\x01\\x01\\x01\\x01'\n",
      "3\n",
      "b'\\x01\\x01\\x01\\x01'\n",
      "0000000000000000\n"
     ]
    }
   ],
   "source": [
    "def oreoreEnc(plain,key):\n",
    "    blocks=int(len(plain)/len(key))\n",
    "    print(blocks)\n",
    "    crypted = []\n",
    "    for count in range(blocks):\n",
    "        print(count)\n",
    "        block = plain[count*len(key):count*len(key)+len(key)]\n",
    "        for i in range(len(key)):\n",
    "            print(i)\n",
    "            print(block)\n",
    "            crypted.append(block[i] ^ key[i])\n",
    "    return bytes(crypted)\n",
    "\n",
    "crypted = oreoreEnc(\"abcdefghijklmnop\".encode(\"SJIS\"),\"1111\".encode(\"SJIS\"))\n",
    "print(crypted.decode(\"SJIS\"))\n",
    "decrypted=oreoreEnc(crypted,\"1111\".encode(\"SJIS\"))\n",
    "print(decrypted.decode(\"SJIS\"))\n",
    "\n",
    "crypted = oreoreEnc(\"0000000000000000\".encode(\"SJIS\"),\"1111\".encode(\"SJIS\"))\n",
    "print(crypted.decode(\"SJIS\"))\n",
    "print(crypted)\n",
    "decrypted=oreoreEnc(crypted,\"1111\".encode(\"SJIS\"))\n",
    "print(decrypted.decode(\"SJIS\"))\n"
   ]
  },
  {
   "cell_type": "code",
   "execution_count": 46,
   "metadata": {},
   "outputs": [
    {
     "data": {
      "text/plain": [
       "6"
      ]
     },
     "execution_count": 46,
     "metadata": {},
     "output_type": "execute_result"
    }
   ],
   "source": [
    "len(bytes(\"abcdef\",\"SJIS\"))"
   ]
  },
  {
   "cell_type": "code",
   "execution_count": 21,
   "metadata": {
    "collapsed": true
   },
   "outputs": [],
   "source": [
    "bytes=[1,2,3]"
   ]
  },
  {
   "cell_type": "code",
   "execution_count": 22,
   "metadata": {},
   "outputs": [
    {
     "data": {
      "text/plain": [
       "[1, 2, 3]"
      ]
     },
     "execution_count": 22,
     "metadata": {},
     "output_type": "execute_result"
    }
   ],
   "source": [
    "bytes"
   ]
  },
  {
   "cell_type": "code",
   "execution_count": 27,
   "metadata": {},
   "outputs": [
    {
     "data": {
      "text/plain": [
       "[1, 2, 3, 1, 2, 3]"
      ]
     },
     "execution_count": 27,
     "metadata": {},
     "output_type": "execute_result"
    }
   ],
   "source": [
    "bytes+[1,2,3]"
   ]
  },
  {
   "cell_type": "code",
   "execution_count": 30,
   "metadata": {},
   "outputs": [
    {
     "data": {
      "text/plain": [
       "list"
      ]
     },
     "execution_count": 30,
     "metadata": {},
     "output_type": "execute_result"
    }
   ],
   "source": [
    "type(bytes)"
   ]
  },
  {
   "cell_type": "code",
   "execution_count": 31,
   "metadata": {
    "collapsed": true
   },
   "outputs": [],
   "source": [
    "bytes=bytes"
   ]
  },
  {
   "cell_type": "code",
   "execution_count": 32,
   "metadata": {},
   "outputs": [
    {
     "data": {
      "text/plain": [
       "[1, 2, 3]"
      ]
     },
     "execution_count": 32,
     "metadata": {},
     "output_type": "execute_result"
    }
   ],
   "source": [
    "bytes"
   ]
  },
  {
   "cell_type": "code",
   "execution_count": 38,
   "metadata": {},
   "outputs": [],
   "source": [
    "ott=bytes([1,2,3])"
   ]
  },
  {
   "cell_type": "code",
   "execution_count": 39,
   "metadata": {},
   "outputs": [
    {
     "data": {
      "text/plain": [
       "b'\\x01\\x02\\x03'"
      ]
     },
     "execution_count": 39,
     "metadata": {},
     "output_type": "execute_result"
    }
   ],
   "source": [
    "ott"
   ]
  },
  {
   "cell_type": "code",
   "execution_count": 41,
   "metadata": {},
   "outputs": [
    {
     "ename": "TypeError",
     "evalue": "sequence item 0: expected a bytes-like object, int found",
     "output_type": "error",
     "traceback": [
      "\u001b[1;31m---------------------------------------------------------------------------\u001b[0m",
      "\u001b[1;31mTypeError\u001b[0m                                 Traceback (most recent call last)",
      "\u001b[1;32m<ipython-input-41-587727975c65>\u001b[0m in \u001b[0;36m<module>\u001b[1;34m()\u001b[0m\n\u001b[1;32m----> 1\u001b[1;33m \u001b[0mott\u001b[0m\u001b[1;33m.\u001b[0m\u001b[0mjoin\u001b[0m\u001b[1;33m(\u001b[0m\u001b[1;33m[\u001b[0m\u001b[1;36m3\u001b[0m\u001b[1;33m]\u001b[0m\u001b[1;33m)\u001b[0m\u001b[1;33m\u001b[0m\u001b[0m\n\u001b[0m",
      "\u001b[1;31mTypeError\u001b[0m: sequence item 0: expected a bytes-like object, int found"
     ]
    }
   ],
   "source": [
    "ott.join([3])"
   ]
  },
  {
   "cell_type": "code",
   "execution_count": 42,
   "metadata": {},
   "outputs": [
    {
     "data": {
      "text/plain": [
       "b'\\x01\\x02\\x03\\x04'"
      ]
     },
     "execution_count": 42,
     "metadata": {},
     "output_type": "execute_result"
    }
   ],
   "source": [
    "bytes([1,2,3,4])"
   ]
  },
  {
   "cell_type": "code",
   "execution_count": null,
   "metadata": {
    "collapsed": true
   },
   "outputs": [],
   "source": []
  }
 ],
 "metadata": {
  "kernelspec": {
   "display_name": "Python 3",
   "language": "python",
   "name": "python3"
  },
  "language_info": {
   "codemirror_mode": {
    "name": "ipython",
    "version": 3
   },
   "file_extension": ".py",
   "mimetype": "text/x-python",
   "name": "python",
   "nbconvert_exporter": "python",
   "pygments_lexer": "ipython3",
   "version": "3.6.2"
  }
 },
 "nbformat": 4,
 "nbformat_minor": 2
}
